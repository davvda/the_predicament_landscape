{
 "cells": [
  {
   "cell_type": "code",
   "execution_count": 12,
   "metadata": {},
   "outputs": [
    {
     "name": "stdout",
     "output_type": "stream",
     "text": [
      "['Identity.html', 'Unemployment.html', 'Access to water.html', 'Hedonism.html', 'War.html', 'Modern slavery.html', 'Lack of time.html', 'Pollution.html', 'Spiritual metacrisis.html', 'Dealing with death.html', 'Ignorance of everything being sacred.html', 'Travel.html', 'Lack of belonging.html', 'Lobbyism.html', 'Energy.html', 'Genocide.html', 'Racism.html', 'Too much speed and noise.html', 'Culture wars.html', 'Unheeded warnings.html', 'Inertia.html', 'Rationalism.html', 'The desacration of all places.html', 'Democracy failing.html', 'Complexity mismatch.html', 'Lack of humility.html', 'Constant connectivity.html', 'updates.html', 'Ecological crisis.html', 'Ignorance of ongoing collapse.html', 'Craft.html', 'Ignorance of interconnectedness.html', 'Naive techno-optimism.html', 'Elderly care.html', 'Jevons paradox.html', 'Map and territory.html', 'Biodiversity loss.html', 'Nuclear war.html', 'Electric vehicle solutions.html', 'Animal views.html', \"Information isn't knowledge.html\", 'Migration.html', 'Solutionism.html', 'Colonialist narratives.html', 'Microplastics.html', 'Suicide.html', 'Propaganda.html', 'Unpaid important labour.html', 'Moloch.html', 'Signal-to-noise ratio.html', 'Evil.html', 'Mind-body separation.html', 'Access to food.html', 'Carelessness.html', 'Ignoring diversity.html', 'Wisdom crisis.html', 'Data privacy.html', 'Loneliness.html', 'Maximum power principle.html', 'Lack of masculine and feminine.html', 'Population growth.html', 'Desertification.html', 'Despair.html', 'Illusion of no option.html', 'Lack of historical insight.html', 'Growth.html', 'Dispositionism.html', 'Architecture.html', \"Weber's iron cage.html\", 'Monopolies.html', 'Finite games.html', 'Monocultures (agriculture).html', 'Sexism.html', \"Only 'can we' never 'should we'.html\", 'Genetic modification.html', 'Imprisonment.html', \"Knowledge isn't wisdom.html\", 'Breakdown of information infrastructure.html', 'Resources.html', 'Hemispherical asymmetry (Earth).html', 'Quality.html', 'Distractions.html', 'Lack of compassion.html', 'Tipping points.html', 'Lack of love.html', 'Profit.html', 'Delusional domination of nature.html', 'Lack of communities.html', 'Lack of cultural control systems.html', 'Laws.html', 'Parenting.html', 'Virtue signalling.html', 'Avoiding uncertainty.html', 'Meaning crisis.html', 'Social erosion.html', 'National borders.html', 'Deforestation.html', 'Net negative caloric extraction.html', 'Lack of resilient systems.html', 'Illusion of competence.html', 'Mental health.html', 'Loss of insect biomass.html', 'Illusion of GDP decoupling.html', 'The spectacle.html', 'Bureaucracy.html', 'Polarisation.html', 'No value in maintenance.html', 'Greenwashing.html', 'Globalisation.html', 'Climate change.html', 'Chasing happiness.html', 'The impossibility of UBI.html', 'Slow change.html', 'No respect for indigenous wisdom.html', 'Consumerism.html', 'Hemispherical asymmetry (Brain).html', 'Educational systems.html', 'Fear.html', 'Lack of empathy.html', 'Extreme weather.html', 'Sustainable growth.html', 'Lack of agency.html', 'Misinformation.html', 'Meat eating.html', 'Lack of the longterm.html', 'Limits to growth.html', 'Quantification.html', 'Biased evidence selection.html', 'Illusion of understanding.html', 'Lack of attentiveness.html', 'Acceleration.html', 'Debt.html', 'Material extraction.html', 'The death of creative work.html', 'Addiction.html', 'Educational crisis.html', 'Reductionism.html', 'Out of touch with seasons.html', 'Lack of visions.html', 'Oppressive tyrannies for the good of its victims.html', 'Ignoring complexity.html', 'Synthetic biology.html', 'Naive progress narrative.html', 'Attention hijacking.html', 'Social media.html', 'Ancient sunlight, old sunlight, current sunlight.html', 'End of history.html', 'Government.html', 'Mass climate migration.html', 'Lack of faith in anything.html', 'Discrimination.html', 'The Predicament Landscape.html', 'Unbalanced longtermism.html', 'Global supply chains.html', 'Lack of feeling needed.html', 'Story of separation.html', 'Disinformation.html', 'Centralisation.html', 'News.html', 'Mistreatment of other humans.html', 'Soil erosion.html', 'Avoiding radical options.html', 'Resource conflicts.html', 'Ignored externalities.html', 'Bullshit jobs.html', 'Nihilism.html', 'Loss of cultural complexity.html', 'Car-centric design.html', \"Populations entering the 'middle class'.html\", 'Clock time.html', 'Sex and sexuality.html', 'Tragedy of the vanishing commons.html', 'Nothing is local.html', 'Sense-making crisis.html', 'Cars.html', 'No precautionary principle.html', 'Blaming the people.html', 'Failure to take responsibility.html', 'Lack of quiet spaces.html', 'Immoral justifications.html', 'Apathy.html', 'Simplifications.html', 'Lack of systems thinking.html', 'Capitalism.html', 'List of possibilities.html', 'Public transport.html', 'Emotional crisis.html', 'Traffic noise.html', 'Pandemics.html', 'Transportation infrastructure.html', 'Sedentary lifestyles.html', 'Cost of living.html', 'Big tech.html', 'Poverty.html', 'Missing elders.html', 'Agriculture.html', 'Air travel.html', 'Malnutrition.html', 'Lack of dark spaces.html', 'Monocultures (people).html', 'Exponential technology.html', 'Climate footprints.html', 'Naive techno-pessimism.html', 'Waste.html', 'LGBTQ+.html', 'Poisoning the water, the earth, the air.html', 'Directionlessness.html', 'Individualism.html', 'Ineffective institutions.html', 'Hyperstimuli.html', 'Ocean acidification.html', 'Lack of balance.html', 'Energy consumption increasing.html', 'Over-reliance on technology.html', 'Being reasonable.html', 'Carbon fundamentalism.html', 'Industrial slaughter.html', 'Cognitive dissonance.html', 'Lack of a living world view.html', 'Status.html', 'Artificial Intelligence.html', 'Investing.html', 'Obesity.html', 'The Dark Triad.html', 'Hobbesian views.html', 'Lack of purpose.html', 'Mistreatment of animals.html', 'Multipolar traps.html', 'Planetary boundaries.html', 'Ignorance of the mythical.html', 'Scientism.html', 'Catastrophic risks.html', 'The minimisation of all things wild.html', 'Greed.html', 'Ego.html', 'Selfishness.html', 'Faulty meta-optimisation.html', 'Violence.html', 'Yuppie dystopia.html', 'Madness of safety.html', 'Advertising.html', 'Power concentration to the wrong people.html', 'Healthcare.html', 'Business-as-usual narrative.html', 'Algorithmic curation.html', 'Ignorance of the mystical.html', 'Language.html', 'Views on human nature.html', 'Dogmatism.html', 'Surveillance.html', 'Sameness.html', 'Art.html', 'Inequality.html']\n"
     ]
    }
   ],
   "source": [
    "import os\n",
    "dir_list = os.listdir(\"predicaments\")\n",
    "print(dir_list)"
   ]
  },
  {
   "cell_type": "code",
   "execution_count": 13,
   "metadata": {},
   "outputs": [],
   "source": [
    "\n",
    "\n",
    "for dst in dir_list:\n",
    "    f = open(dst, 'w')\n",
    "\n",
    "    html_template = \"\"\"<!DOCTYPE html>\n",
    "    <html lang=\"en\">\n",
    "    <head>\n",
    "        <meta charset=\"UTF-8\" />\n",
    "        <meta http-equiv=\"X-UA-Compatible\" content=\"IE=edge\" />\n",
    "        <meta name=\"viewport\" content=\"width=device-width, initial-scale=1.0\" />\n",
    "        <title>XYZ</title>\n",
    "        <link rel=\"stylesheet\" href=\"css/styles.css\">\n",
    "    </head>\n",
    "    <body>\n",
    "        <?xml version=\"1.0\" encoding=\"UTF-8\" standalone=\"no\"?>\n",
    "    <!-- Generator: Adobe Illustrator 21.0.0, SVG Export Plug-In . SVG Version: 6.00 Build 0)  -->\n",
    "    <div style=\"position: fixed; right: 0%; top: 5%; height: 100%; width: 35%; border: none; border-left: solid 2px rgb(53, 53, 53)\">\n",
    "    <div style=\"position: fixed; top: 0%; height: 5%; width: 100%; border: none;\">\n",
    "    <p>\n",
    "    <a href=\"index.html\">Home</a></li>\n",
    "    <span style=\"display:inline-block; width: 2%;\"></span>    \n",
    "    <a href=\"updates.html\">Updates</a>\n",
    "    <span style=\"display:inline-block; width: 2%;\"></span>    \n",
    "    <a href=\"http://www.punk.ist/\">punk.ist</a>\n",
    "    </p>\n",
    "    </div>\n",
    "    <embed type=\"text/html\" src=\"predicaments/XYZ.html\" width=\"100%\" height=\"100%\">\n",
    "    </div> \n",
    "    <div style=\"position: fixed; height: 100%; width: 62.5%; border: none;\">\n",
    "    <embed type=\"image/png\" src=\"img/WIP.png\" width=\"100%\">\n",
    "    </div>\n",
    "    </body>\n",
    "    </html>\n",
    "    \"\"\"\n",
    "\n",
    "    html_template = html_template.replace('XYZ', dst.replace('.html', ''))\n",
    "\n",
    "    f.write(html_template)\n",
    "    f.close()"
   ]
  }
 ],
 "metadata": {
  "kernelspec": {
   "display_name": "Python 3",
   "language": "python",
   "name": "python3"
  },
  "language_info": {
   "codemirror_mode": {
    "name": "ipython",
    "version": 3
   },
   "file_extension": ".py",
   "mimetype": "text/x-python",
   "name": "python",
   "nbconvert_exporter": "python",
   "pygments_lexer": "ipython3",
   "version": "3.11.2"
  }
 },
 "nbformat": 4,
 "nbformat_minor": 2
}
